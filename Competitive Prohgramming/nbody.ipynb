{
 "cells": [
  {
   "cell_type": "code",
   "execution_count": 24,
   "metadata": {},
   "outputs": [
    {
     "name": "stderr",
     "output_type": "stream",
     "text": [
      "C:\\Users\\91762\\AppData\\Local\\Temp\\ipykernel_25968\\3074376391.py:45: MatplotlibDeprecationWarning: Setting data with a non sequence type is deprecated since 3.7 and will be remove two minor releases later\n",
      "  line2.set_data(state[i,0],state[i,N])\n"
     ]
    },
    {
     "data": {
      "image/png": "[encoded data removed]",
      "text/plain": [
       "<Figure size 432x288 with 1 Axes>"
      ]
     },
     "metadata": {
      "needs_background": "light"
     },
     "output_type": "display_data"
    }
   ],
   "source": [
    "import numpy as np, matplotlib.pyplot as plt\n",
    "from scipy.integrate import odeint\n",
    "\n",
    "# 2D\n",
    "\n",
    "N = 3\n",
    "G = 1.0\n",
    "\n",
    "posi = [np.random.uniform(-1,1,2) for i in range(N)]\n",
    "veli = [np.random.uniform(-1,1,2) for i in range(N)]\n",
    "mass = np.random.uniform(0.1,1,N)\n",
    "\n",
    "\n",
    "def grav(state,t):\n",
    "    x = state[:N]\n",
    "    y = state[N:2*N]\n",
    "    vx = state[2*N:3*N]\n",
    "    vy = state[3*N:]\n",
    "    dx = np.zeros(N)\n",
    "    dy = np.zeros(N)\n",
    "    for i in range(N):\n",
    "        for j in range(N):\n",
    "            if i!=j:\n",
    "                dx[i] += G*mass[j]*(x[j]-x[i])/np.hypot(x[j]-x[i],y[j]-y[i])**3  # np.hypot(x,y) = sqrt(x**2+y**2), the distance between two points. np.hypot(x,y)**3 = (x**2+y**2)**(3/2).\n",
    "                dy[i] += G*mass[j]*(y[j]-y[i])/np.hypot(x[j]-x[i],y[j]-y[i])**3  # It is the acceleration of the particle i due to the particle j.\n",
    "    return np.concatenate((vx,vy,dx,dy))\n",
    "\n",
    "state0 = np.concatenate((posi[0],posi[1],veli[0],veli[1]))\n",
    "\n",
    "t = np.linspace(0,100,1001)\n",
    "state = odeint(grav,state0,t) # odeint is a function that solves a system of ordinary differential equations given an initial value., in this case the system is the grav function, the initial value is state0, and the time is t.\n",
    "# also plot the trajectories, along with the movements of the three particles\n",
    "# in the x-y plane\n",
    "\n",
    "from matplotlib.animation import FuncAnimation\n",
    "\n",
    "fig, ax = plt.subplots()\n",
    "lim = 4.0\n",
    "ax.set_xlim(-lim,lim)\n",
    "ax.set_ylim(-lim,lim)\n",
    "ax.set_aspect('equal')\n",
    "ax.grid()\n",
    "line, = ax.plot([],[],'o',color='r')\n",
    "line2, = ax.plot([],[],'o',color='b')\n",
    "line3, = ax.plot([],[],'o',color='g')\n",
    "\n",
    "\n",
    "# inform about the mass of the particles\n",
    "for i in range(N):\n",
    "    ax.text(state0[i],state0[i+N],(mass[i]).__str__()[:4])\n",
    "\n",
    "\n",
    "def animate(i):\n",
    "    line.set_data(state[i,:N],state[i,N:2*N])\n",
    "    line2.set_data(state[i,0],state[i,N])\n",
    "    line3.set_data(state[i,0],state[i,1])\n",
    "    return line,line2,line3\n",
    "\n",
    "ani = FuncAnimation(fig,animate,frames=1001,interval=1,blit=True)\n",
    "plt.show()\n"
   ]
  },
  {
   "cell_type": "code",
   "execution_count": null,
   "metadata": {},
   "outputs": [],
   "source": []
  },
  {
   "cell_type": "code",
   "execution_count": null,
   "metadata": {},
   "outputs": [],
   "source": []
  }
 ],
 "metadata": {
  "kernelspec": {
   "display_name": "base",
   "language": "python",
   "name": "python3"
  },
  "language_info": {
   "codemirror_mode": {
    "name": "ipython",
    "version": 3
   },
   "file_extension": ".py",
   "mimetype": "text/x-python",
   "name": "python",
   "nbconvert_exporter": "python",
   "pygments_lexer": "ipython3",
   "version": "3.10.10"
  },
  "orig_nbformat": 4
 },
 "nbformat": 4,
 "nbformat_minor": 2
}
