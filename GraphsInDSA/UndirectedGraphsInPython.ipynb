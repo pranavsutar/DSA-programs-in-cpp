{
 "cells": [
  {
   "cell_type": "code",
   "execution_count": 2,
   "metadata": {},
   "outputs": [],
   "source": [
    "# n,m = [int(x) for x in input().split()]\n",
    "n,m = 7,12\n",
    "\n",
    "adjl = [[] for _ in range(n)]\n",
    "adjm = [[0 for _ in range(n)] for _ in range(n)]\n",
    "edges = []\n",
    "\"\"\"7 12\n",
    "3 4\n",
    "1 5\n",
    "0 5\n",
    "2 5\n",
    "1 2\n",
    "4 6\n",
    "2 6\n",
    "4 5\n",
    "0 3\n",
    "1 6\n",
    "0 1\n",
    "5 6 \"\"\"\n",
    "edges = [(3,4),(1,5),(0,5),(2,5),(1,2),(4,6),(2,6),(4,5),(0,3),(1,6),(0,1),(5,6)]\n",
    "for u,v in edges:\n",
    "    adjl[u].append(v)\n",
    "    adjl[v].append(u)\n",
    "    adjm[u][v] = 1\n",
    "    adjm[v][u] = 1\n",
    "# for _ in range(m):\n",
    "#     u,v = [int(x) for x in input().split()]\n",
    "#     adjl[u].append(v)\n",
    "#     adjl[v].append(u)\n",
    "#     adjm[u][v] = 1\n",
    "#     adjm[v][u] = 1\n",
    "#     edges.append((u,v))\n"
   ]
  },
  {
   "cell_type": "code",
   "execution_count": 10,
   "metadata": {},
   "outputs": [
    {
     "name": "stdout",
     "output_type": "stream",
     "text": [
      "0\n",
      "5\n",
      "1\n",
      "2\n",
      "6\n",
      "4\n",
      "3\n",
      "0\n",
      "1\n",
      "2\n",
      "3\n",
      "4\n",
      "5\n",
      "6\n"
     ]
    }
   ],
   "source": [
    "# \n",
    "# dfs traversal\n",
    "\n",
    "visited = [False] * n\n",
    "def dfs_s(u):\n",
    "    visited[u] = True\n",
    "    print(u)\n",
    "    for v in adjl[u]:\n",
    "        if not visited[v]:\n",
    "            dfs_s(v)\n",
    "\n",
    "dfs_s(0)\n",
    "\n",
    "# DFS in unconected graph\n",
    "def dfs_all():\n",
    "    visited = [False] * n\n",
    "    for u in range(n):\n",
    "        if not visited[u]:\n",
    "            dfs_s(u)\n",
    "\n",
    "dfs_all()"
   ]
  },
  {
   "cell_type": "code",
   "execution_count": 19,
   "metadata": {},
   "outputs": [
    {
     "name": "stdout",
     "output_type": "stream",
     "text": [
      "0\n",
      "5\n",
      "3\n",
      "1\n",
      "2\n",
      "4\n",
      "6\n"
     ]
    }
   ],
   "source": [
    "# BFS traversal\n",
    "# visited = [False] * n\n",
    "def bfs_s(u, visited):\n",
    "    visited[u] = True\n",
    "    q = [u]\n",
    "    while q:\n",
    "        u = q.pop(0)\n",
    "        print(u)\n",
    "        for v in adjl[u]:\n",
    "            if not visited[v]:\n",
    "                visited[v] = True\n",
    "                q.append(v)\n",
    "\n",
    "# bfs_s(0, [False] * n)\n",
    "\n",
    "# BFS in unconected graph\n",
    "def bfs_all():\n",
    "    visited = [False] * n\n",
    "    for u in range(n):\n",
    "        if not visited[u]:\n",
    "            bfs_s(u, visited)\n",
    "\n",
    "bfs_all()"
   ]
  },
  {
   "cell_type": "code",
   "execution_count": 5,
   "metadata": {},
   "outputs": [
    {
     "name": "stdout",
     "output_type": "stream",
     "text": [
      "2\n",
      "1\n"
     ]
    }
   ],
   "source": [
    "# Find the distace between two nodes using bfs\n",
    "def bfs_distance(u,v):\n",
    "    visited = [False] * n\n",
    "    distance = [0] * n\n",
    "    visited[u] = True\n",
    "    q = [u]\n",
    "    while q:\n",
    "        u = q.pop(0)\n",
    "        for v in adjl[u]:\n",
    "            if not visited[v]:\n",
    "                visited[v] = True\n",
    "                distance[v] = distance[u] + 1\n",
    "                q.append(v)\n",
    "    return distance[v]\n",
    "\n",
    "print(bfs_distance(2,7))\n",
    "print(bfs_distance(0,5))"
   ]
  },
  {
   "cell_type": "code",
   "execution_count": 6,
   "metadata": {},
   "outputs": [],
   "source": [
    "# finding the longest non-cyclic path in connected graph\n",
    "\n",
    "# find the farthest node from a given node\n",
    "# find the farthest node from the farthest node, this is the diameter of the graph\n",
    "\n",
    "def bfs_diameter(u):\n",
    "    visited = [False] * n\n",
    "    distance = [0] * n\n",
    "    visited[u] = True\n",
    "    q = [u]\n",
    "    while q:\n",
    "        u = q.pop(0)\n",
    "        for v in adjl[u]:\n",
    "            if not visited[v]:\n",
    "                visited[v] = True\n",
    "                distance[v] = distance[u] + 1\n",
    "                q.append(v)\n",
    "    return distance"
   ]
  },
  {
   "cell_type": "code",
   "execution_count": 7,
   "metadata": {},
   "outputs": [
    {
     "name": "stdout",
     "output_type": "stream",
     "text": [
      "True\n"
     ]
    }
   ],
   "source": [
    "# cycle detection in undirected graph\n",
    "visited = [False] * n\n",
    "def dfs_cycle(u,p):\n",
    "    visited[u] = True\n",
    "    for v in adjl[u]:\n",
    "        if not visited[v]:\n",
    "            if dfs_cycle(v,u):\n",
    "                return True\n",
    "        elif v != p:\n",
    "            return True\n",
    "    return False\n",
    "\n",
    "print(dfs_cycle(0,-1))"
   ]
  },
  {
   "cell_type": "code",
   "execution_count": 9,
   "metadata": {},
   "outputs": [
    {
     "name": "stdout",
     "output_type": "stream",
     "text": [
      "True\n"
     ]
    }
   ],
   "source": [
    "#is graph connected?\n",
    "visited = [False] * n\n",
    "def dfs_connected(u):\n",
    "    visited[u] = True\n",
    "    for v in adjl[u]:\n",
    "        if not visited[v]:\n",
    "            dfs_connected(v)\n",
    "\n",
    "        \n",
    "\n",
    "dfs_connected(0)\n",
    "print(all(visited))"
   ]
  },
  {
   "cell_type": "code",
   "execution_count": 20,
   "metadata": {},
   "outputs": [
    {
     "name": "stdout",
     "output_type": "stream",
     "text": [
      "1\n"
     ]
    }
   ],
   "source": [
    "# find the number of connected components\n",
    "visited = [False] * n\n",
    "def dfs_connected_components():\n",
    "    count = 0\n",
    "    for u in range(n):\n",
    "        if not visited[u]:\n",
    "            count += 1\n",
    "            dfs_connected(u)\n",
    "    return count\n",
    "\n",
    "print(dfs_connected_components())"
   ]
  },
  {
   "cell_type": "code",
   "execution_count": 21,
   "metadata": {},
   "outputs": [
    {
     "name": "stdout",
     "output_type": "stream",
     "text": [
      "3\n"
     ]
    }
   ],
   "source": [
    "\n",
    "# Using DSU to find the number of connected components\n",
    "# DSU: Disjoint Set Union\n",
    "\n",
    "# find the parent of a node\n",
    "def find_parent(parent, u):\n",
    "    if parent[u] == u:\n",
    "        return u\n",
    "    return find_parent(parent, parent[u])\n",
    "\n",
    "# union two nodes\n",
    "def union(parent, u, v):\n",
    "    parent_u = find_parent(parent, u)\n",
    "    parent_v = find_parent(parent, v)\n",
    "    parent[parent_u] = parent_v\n",
    "\n",
    "# find the number of connected components\n",
    "def dsu_connected_components():\n",
    "    parent = [i for i in range(n)]\n",
    "    for u,v in edges:\n",
    "        union(parent, u, v)\n",
    "    return len(set(parent))\n",
    "\n",
    "print(dsu_connected_components())\n"
   ]
  },
  {
   "cell_type": "code",
   "execution_count": null,
   "metadata": {},
   "outputs": [],
   "source": []
  }
 ],
 "metadata": {
  "kernelspec": {
   "display_name": "base",
   "language": "python",
   "name": "python3"
  },
  "language_info": {
   "codemirror_mode": {
    "name": "ipython",
    "version": 3
   },
   "file_extension": ".py",
   "mimetype": "text/x-python",
   "name": "python",
   "nbconvert_exporter": "python",
   "pygments_lexer": "ipython3",
   "version": "3.9.7"
  },
  "orig_nbformat": 4
 },
 "nbformat": 4,
 "nbformat_minor": 2
}
